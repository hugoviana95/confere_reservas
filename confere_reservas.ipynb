{
 "cells": [
  {
   "cell_type": "code",
   "execution_count": 233,
   "metadata": {},
   "outputs": [],
   "source": [
    "import pandas as pd\n",
    "import gspread\n",
    "import os\n",
    "from datetime import datetime\n",
    "import requests"
   ]
  },
  {
   "cell_type": "code",
   "execution_count": 234,
   "metadata": {},
   "outputs": [],
   "source": [
    "# Baixa e lê a planilha de projetos em curso\n",
    "r = requests.get(\"https://geoex.com.br/Sistema/Job/Download?data=eyJKb2JJZCI6IjI3NGY2ZGRhLWEzZGItNGNkMi05NmQ3LWJjNGE5NjlhYTFlNyJ9\", headers={'cookie':'_ga=GA1.1.1408546827.1679344756; TemaEscuro=true; Home.Buscar.Texto=; ASP.NET_SessionId=r4jjibpbd1byxmnxyobgib30; ConsultarNota.Numero=9101900448; ConsultarProjeto.Numero=B-0808522; .ASPXAUTH=9160AE158E39CD37666221CCC1EE172AA3D6C30D63C299E69025FAA248B8FEEE872910F8217D345BEBAFA8AD129E9CE0501D9F4092229C8EB83E3AEDE5CF07C79105BB052DAA6F88D2B248C2B15A8AC2A2F797281B8BEA7D58C52744F8AE0996B6B6CC4A02D60C9D4E387A97521E74B64CBD9D7473E2844E175A55653C8307E6F35C2B584C4EAEF6D3F1A3A273D6779B1EFDCF6B9AD5C490580F616E06896FE4B2BDC327FC24234A36003E18BA1063F8E8CD2199A2FEF65164280952C81AEE5B3634C2735A896965D31272EC9869B5D9; _ga_ZBQMHFHTL8=GS1.1.1681316552.74.0.1681316552.0.0.0'})\n",
    "open('projetos em curso.zip', 'wb').write(r.content)\n",
    "projetos_em_curso = pd.read_csv('projetos em curso.zip', delimiter=';', encoding='ISO-8859-1', low_memory=False)\n",
    "projetos_em_curso['Projeto'] = projetos_em_curso['ProjetoText'].str.extract(r'(\\d\\d\\d\\d\\d\\d\\d)')\n",
    "projetos_em_curso['Projeto'] = projetos_em_curso['Projeto'].fillna(0)\n",
    "projetos_em_curso['Projeto'] = projetos_em_curso['Projeto'].astype(int)"
   ]
  },
  {
   "cell_type": "code",
   "execution_count": 235,
   "metadata": {},
   "outputs": [],
   "source": [
    "detalhamento_materiais = pd.read_excel(\"Detalhamento dos materiais.xlsx\")\n",
    "detalhamento_materiais = detalhamento_materiais.rename(columns={'codigo': 'Material'})"
   ]
  },
  {
   "cell_type": "code",
   "execution_count": 236,
   "metadata": {},
   "outputs": [
    {
     "name": "stderr",
     "output_type": "stream",
     "text": [
      "C:\\Users\\Hugo Viana\\AppData\\Local\\Temp\\ipykernel_8560\\4241317223.py:9: DtypeWarning: Columns (1,2,3,4,5) have mixed types. Specify dtype option on import or set low_memory=False.\n",
      "  mb52 = pd.read_csv('mb52.csv', sep='\\t', encoding='ISO-8859-1')\n"
     ]
    }
   ],
   "source": [
    "try:\n",
    "    os.rename('mb52.xls', 'mb52.csv')\n",
    "except FileExistsError:\n",
    "    os.remove('mb52.csv')\n",
    "    os.rename('mb52.xls', 'mb52.csv')\n",
    "except FileNotFoundError:\n",
    "    pass\n",
    "\n",
    "mb52 = pd.read_csv('mb52.csv', sep='\\t', encoding='ISO-8859-1')\n",
    "mb52 = mb52.loc[~mb52['Material'].isna()]\n",
    "mb52 = mb52.loc[~mb52['Dep.'].isna()]\n",
    "mb52 = mb52.loc[~mb52['Cen.'].isna()]\n",
    "mb52 = mb52.loc[mb52['Material'] != 'Material']\n",
    "mb52 = mb52.loc[mb52['Material'] != '*']\n",
    "mb52['Material'] = mb52['Material'].astype(int)\n",
    "mb52['  Utilização livre'] = mb52['  Utilização livre'].str.replace(' ','')\n",
    "mb52['  Utilização livre'] = mb52['  Utilização livre'].str.replace('.','')\n",
    "mb52['  Utilização livre'] = mb52['  Utilização livre'].str.replace(',','.')\n",
    "mb52['  Utilização livre'] = mb52['  Utilização livre'].astype(float)\n",
    "mb52['Cen.'] = mb52['Cen.'].astype(int)\n",
    "mb52['Dep.'] = mb52['Dep.'].astype(int)\n",
    "mb52 = mb52.loc[mb52['Cen.'] == 610]\n",
    "\n",
    "estoque = mb52[['Material', 'Cen.', 'Dep.', '  Utilização livre']]\n",
    "deposito_vs_unidade = pd.DataFrame([[640, 'IBOTIRAMA'],\n",
    "                        [659, 'VITÓRIA DA CONQUISTA'],\n",
    "                        [660, 'JEQUIÉ'],\n",
    "                        [666, 'IRECÊ'],\n",
    "                        [691, 'BOM JESUS DA LAPA'],\n",
    "                        [692, 'GUANAMBI'],\n",
    "                        [693, 'BARREIRAS']], columns=['Dep.', 'UNIDADE'])\n",
    "estoque = estoque.merge(deposito_vs_unidade, on=['Dep.'])\n",
    "\n",
    "# estoque_vtc = estoque.loc[estoque['UNIDADE'] == 'VITÓRIA DA CONQUISTA']\n",
    "# estoque_ibt = estoque.loc[estoque['UNIDADE'] == 'IBOTIRAMA']\n",
    "# estoque_jeq = estoque.loc[estoque['UNIDADE'] == 'JEQUIÉ']\n",
    "# estoque_irc = estoque.loc[estoque['UNIDADE'] == 'IRECÊ']\n",
    "# estoque_bjl = estoque.loc[estoque['UNIDADE'] == 'BOM JESUS DA LAPA']\n",
    "# estoque_gbi = estoque.loc[estoque['UNIDADE'] == 'GUANAMBI']\n",
    "# estoque_brr = estoque.loc[estoque['UNIDADE'] == 'BARREIRAS']\n",
    "# estoque_vtc = estoque.loc[estoque['Dep.'] == 659]\n",
    "# estoque_ibt = estoque.loc[estoque['Dep.'] == 640]\n",
    "# estoque_jeq = estoque.loc[estoque['Dep.'] == 660]\n",
    "# estoque_irc = estoque.loc[estoque['Dep.'] == 666]\n",
    "# estoque_bjl = estoque.loc[estoque['Dep.'] == 691]\n",
    "# estoque_gbi = estoque.loc[estoque['Dep.'] == 692]\n",
    "# estoque_brr = estoque.loc[estoque['Dep.'] == 693]"
   ]
  },
  {
   "cell_type": "code",
   "execution_count": 237,
   "metadata": {},
   "outputs": [],
   "source": [
    "# Inicia serviço do Google Sheets\n",
    "gs = gspread.service_account(filename='service_account.json')"
   ]
  },
  {
   "cell_type": "code",
   "execution_count": 238,
   "metadata": {},
   "outputs": [],
   "source": [
    "orcamentos = gs.open_by_key('14d0b2l65tMKZll6SAlqXqRqAjIEIHwkRhJI4YVgIi88')\n",
    "materiais_orcados = orcamentos.worksheet('MATERIAIS').get_all_records(value_render_option=\"UNFORMATTED_VALUE\")\n",
    "materiais_orcados = pd.DataFrame(materiais_orcados)\n",
    "materiais_orcados = materiais_orcados.loc[materiais_orcados['Projeto'] != '']   \n",
    "materiais_orcados = materiais_orcados.rename(columns = {'Código': 'Material', 'Quantidade': 'Qtd. Orçada'})"
   ]
  },
  {
   "cell_type": "code",
   "execution_count": 239,
   "metadata": {},
   "outputs": [],
   "source": [
    "carteira = gs.open_by_key('1yZUYH8x-LzlA7OqrExA7igqin1PG8h3TWQPt0UUJqxI')\n",
    "carteira = carteira.worksheet('CARTEIRA').get_all_records()\n",
    "carteira = pd.DataFrame(carteira)\n",
    "carteira = carteira.loc[carteira['PROJETO'] != '']\n",
    "carteira = carteira.rename(columns={'PROJETO':'Projeto'})\n",
    "projeto_vs_unidade = carteira.groupby(['Projeto', 'UNIDADE'], as_index=False).count()[['Projeto', 'UNIDADE']]"
   ]
  },
  {
   "cell_type": "code",
   "execution_count": 240,
   "metadata": {},
   "outputs": [],
   "source": [
    "programacao = gs.open_by_key('1ztV6DYCUkhefULyxJTBiaAKLB_x5zAHgK9icFqBDvf4')\n",
    "programacao = programacao.worksheet('PROGRAMAÇÃO').get_all_records()\n",
    "programacao = pd.DataFrame(programacao)\n",
    "programacao = programacao.loc[programacao['Projeto'] != '']\n",
    "programacao['Data Execução'] = pd.to_datetime(programacao['Data Execução'], format='%d/%m/%Y')"
   ]
  },
  {
   "cell_type": "code",
   "execution_count": 241,
   "metadata": {},
   "outputs": [],
   "source": [
    "try:\n",
    "    os.rename('cji3.xls', 'cji3.csv')\n",
    "except FileExistsError:\n",
    "    os.remove('cji3.csv')\n",
    "    os.rename('cji3.xls', 'cji3.csv')\n",
    "except FileNotFoundError:\n",
    "    pass\n",
    "\n",
    "cji3 = pd.read_csv('cji3.csv', sep='\\t', encoding='ISO-8859-1', skiprows=1)\n",
    "cji3 = cji3.loc[cji3['Unnamed: 1'] != '*']\n",
    "cji3['Material'] = cji3['Material'].fillna(0)\n",
    "cji3['Material'] = cji3['Material'].astype(int)\n",
    "cji3 = cji3.loc[cji3['Material'] != 0]\n",
    "cji3 = cji3.loc[cji3['Usuário'].str.contains('STC|SIR')]\n",
    "\n",
    "cji3['  Qtd.entr.'] = cji3['  Qtd.entr.'].str.replace('.','')\n",
    "cji3['  Qtd.entr.'] = cji3['  Qtd.entr.'].str.replace(',','.')\n",
    "cji3['  Qtd.entr.'] = cji3['  Qtd.entr.'].str.replace(' ','')\n",
    "cji3['  Qtd.entr.'] = cji3['  Qtd.entr.'].astype(float)\n",
    "\n",
    "cji3['Def.proj.'] = cji3['Def.proj.'].str.extract(r'(\\d\\d\\d\\d\\d\\d\\d)').astype(int)"
   ]
  },
  {
   "cell_type": "code",
   "execution_count": 242,
   "metadata": {},
   "outputs": [
    {
     "name": "stderr",
     "output_type": "stream",
     "text": [
      "C:\\Users\\Hugo Viana\\AppData\\Local\\Temp\\ipykernel_8560\\1020458792.py:9: DtypeWarning: Columns (0,4,6,7,11,12,16,18,20,23) have mixed types. Specify dtype option on import or set low_memory=False.\n",
      "  zmm370 = pd.read_csv('zmm370.csv', sep='\\t', encoding='ISO-8859-1', skiprows=1)\n"
     ]
    }
   ],
   "source": [
    "try:\n",
    "    os.rename('zmm370.xls', 'zmm370.csv')\n",
    "except FileExistsError:\n",
    "    os.remove('zmm370.csv')\n",
    "    os.rename('zmm370.xls', 'zmm370.csv')\n",
    "except FileNotFoundError:\n",
    "    pass\n",
    "\n",
    "zmm370 = pd.read_csv('zmm370.csv', sep='\\t', encoding='ISO-8859-1', skiprows=1)\n",
    "zmm370 = zmm370.loc[zmm370['Registro Final'] != 'X']\n",
    "zmm370 = zmm370.loc[(zmm370['Tipo movimento'] == 221) | (zmm370['Tipo movimento'] == 921)]\n",
    "zmm370 = zmm370.loc[zmm370['Recebedor'].str.contains('3ST')]\n",
    "\n",
    "zmm370['Qtd Necessária'] = zmm370['Qtd Necessária'].str.replace('.','')\n",
    "zmm370['Qtd Necessária'] = zmm370['Qtd Necessária'].str.replace(',','.')\n",
    "zmm370['Qtd Necessária'] = zmm370['Qtd Necessária'].str.replace(' ','')\n",
    "zmm370['Qtd Necessária'] = zmm370['Qtd Necessária'].astype(float)\n",
    "\n",
    "zmm370['Qtd Pendente'] = zmm370['Qtd Pendente'].str.replace('.','')\n",
    "zmm370['Qtd Pendente'] = zmm370['Qtd Pendente'].str.replace(',','.')\n",
    "zmm370['Qtd Pendente'] = zmm370['Qtd Pendente'].str.replace(' ','')\n",
    "zmm370['Qtd Pendente'] = zmm370['Qtd Pendente'].astype(float)\n",
    "\n",
    "zmm370['Projeto'] = zmm370['Projeto'].str.extract(r'(\\d\\d\\d\\d\\d\\d\\d)').astype(int)\n",
    "zmm370 = zmm370.rename(columns={'Qtd Pendente': 'Qtd. Reservada'})"
   ]
  },
  {
   "cell_type": "code",
   "execution_count": 243,
   "metadata": {},
   "outputs": [],
   "source": [
    "reservas_criadas = zmm370[['Projeto', 'Material', 'Qtd. Reservada']].groupby(['Projeto', 'Material'], as_index=False).sum()\n",
    "materiais_movimentados = cji3[['Def.proj.','Material', '  Qtd.entr.']].groupby(['Def.proj.', 'Material'], as_index=False).sum()\n",
    "materiais_movimentados = materiais_movimentados.rename(columns={'Def.proj.': 'Projeto', '  Qtd.entr.': 'Qtd. Movimentada'})"
   ]
  },
  {
   "cell_type": "code",
   "execution_count": 244,
   "metadata": {},
   "outputs": [],
   "source": [
    "data_inicio = datetime.strptime('2023-04-17', '%Y-%m-%d')\n",
    "data_fim = datetime.strptime('2023-04-22', '%Y-%m-%d')\n",
    "\n",
    "programacao_semana = programacao.loc[(programacao['Data Execução']>=data_inicio) & (programacao['Data Execução']<=data_fim)]\n",
    "obras_programadas = programacao_semana[['Projeto']].groupby('Projeto').sum()\n",
    "\n",
    "check_materiais = obras_programadas.merge(materiais_orcados, on='Projeto', how='left').groupby(['Projeto', 'Material'], as_index=False).sum()\n",
    "check_materiais = check_materiais.merge(materiais_movimentados, on=['Projeto', 'Material'], how='left')\n",
    "check_materiais = check_materiais.merge(reservas_criadas, on=['Projeto', 'Material'], how='left')\n",
    "check_materiais = check_materiais.fillna(0)\n",
    "check_materiais['Material pendente de saque'] = check_materiais['Qtd. Orçada'] - check_materiais['Qtd. Movimentada']\n",
    "check_materiais = check_materiais.loc[check_materiais['Material pendente de saque'] > 0]\n",
    "check_materiais['Reserva pendente'] = check_materiais['Material pendente de saque'] - check_materiais['Qtd. Reservada']\n",
    "check_materiais = check_materiais.loc[check_materiais['Reserva pendente'] > 0]\n",
    "check_materiais = check_materiais.merge(projeto_vs_unidade[['Projeto', 'UNIDADE']], on='Projeto')\n",
    "check_materiais = check_materiais.merge(projetos_em_curso[['Projeto', 'StatusUsuarioENPUData']], on='Projeto', how='left')\n",
    "check_materiais = check_materiais.merge(estoque, on=('Material', 'UNIDADE'))\n",
    "check_materiais['Atendimento estoque'] = check_materiais['  Utilização livre'] - check_materiais['Material pendente de saque']\n",
    "check_materiais = check_materiais.merge(detalhamento_materiais[['Material', 'TIPO DE MOVIMENTO']], on=('Material'))"
   ]
  },
  {
   "cell_type": "code",
   "execution_count": 249,
   "metadata": {},
   "outputs": [],
   "source": [
    "check_materiais.to_excel('Programação '+ datetime.strftime(data_inicio, '%d-%m-%Y') + ' a ' + datetime.strftime(data_fim, '%d-%m-%Y') +'.xlsx', index=False)"
   ]
  }
 ],
 "metadata": {
  "kernelspec": {
   "display_name": "Python 3",
   "language": "python",
   "name": "python3"
  },
  "language_info": {
   "codemirror_mode": {
    "name": "ipython",
    "version": 3
   },
   "file_extension": ".py",
   "mimetype": "text/x-python",
   "name": "python",
   "nbconvert_exporter": "python",
   "pygments_lexer": "ipython3",
   "version": "3.11.3"
  },
  "orig_nbformat": 4
 },
 "nbformat": 4,
 "nbformat_minor": 2
}
