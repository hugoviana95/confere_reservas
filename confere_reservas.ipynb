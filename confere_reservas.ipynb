{
 "cells": [
  {
   "cell_type": "code",
   "execution_count": 189,
   "metadata": {},
   "outputs": [],
   "source": [
    "import pandas as pd\n",
    "import gspread\n",
    "import os\n",
    "from datetime import datetime"
   ]
  },
  {
   "cell_type": "code",
   "execution_count": 28,
   "metadata": {},
   "outputs": [],
   "source": [
    "# Inicia serviço do Google Sheets\n",
    "gs = gspread.service_account(filename='service_account.json')"
   ]
  },
  {
   "cell_type": "code",
   "execution_count": 423,
   "metadata": {},
   "outputs": [],
   "source": [
    "orcamentos = gs.open_by_key('14d0b2l65tMKZll6SAlqXqRqAjIEIHwkRhJI4YVgIi88')\n",
    "materiais_orcados = orcamentos.worksheet('MATERIAIS').get_all_records(value_render_option=\"UNFORMATTED_VALUE\")\n",
    "materiais_orcados = pd.DataFrame(materiais_orcados)\n",
    "materiais_orcados = materiais_orcados.loc[materiais_orcados['Projeto'] != '']   \n",
    "materiais_orcados = materiais_orcados.rename(columns = {'Código': 'Material'})"
   ]
  },
  {
   "cell_type": "code",
   "execution_count": 33,
   "metadata": {},
   "outputs": [],
   "source": [
    "carteira = gs.open_by_key('1yZUYH8x-LzlA7OqrExA7igqin1PG8h3TWQPt0UUJqxI')\n",
    "carteira = carteira.worksheet('CARTEIRA').get_all_records()\n",
    "carteira = pd.DataFrame(carteira)\n",
    "carteira = carteira.loc[carteira['PROJETO'] != '']\n",
    "carteira = carteira.rename(columns={'PROJETO':'Projeto'})\n",
    "projeto_vs_unidade = carteira.groupby(['Projeto', 'UNIDADE'], as_index=False).count()[['Projeto', 'UNIDADE']]"
   ]
  },
  {
   "cell_type": "code",
   "execution_count": 38,
   "metadata": {},
   "outputs": [],
   "source": [
    "programacao = gs.open_by_key('1ztV6DYCUkhefULyxJTBiaAKLB_x5zAHgK9icFqBDvf4')\n",
    "programacao = programacao.worksheet('PROGRAMAÇÃO').get_all_records()\n",
    "programacao = pd.DataFrame(programacao)\n",
    "programacao = programacao.loc[programacao['Projeto'] != '']\n",
    "programacao['Data Execução'] = pd.to_datetime(programacao['Data Execução'], format='%d/%m/%Y')"
   ]
  },
  {
   "cell_type": "code",
   "execution_count": 497,
   "metadata": {},
   "outputs": [],
   "source": [
    "try:\n",
    "    os.rename('cji3.xls', 'cji3.csv')\n",
    "except FileExistsError:\n",
    "    os.remove('cji3.csv')\n",
    "    os.rename('cji3.xls', 'cji3.csv')\n",
    "except FileNotFoundError:\n",
    "    pass\n",
    "\n",
    "cji3 = pd.read_csv('cji3.csv', sep='\\t', encoding='ISO-8859-1', skiprows=1)\n",
    "cji3 = cji3.loc[cji3['Unnamed: 1'] != '*']\n",
    "cji3['Material'] = cji3['Material'].fillna(0)\n",
    "cji3['Material'] = cji3['Material'].astype(int)\n",
    "cji3 = cji3.loc[cji3['Material'] != 0]\n",
    "cji3 = cji3.loc[cji3['Usuário'].str.contains('STC|SIR')]\n",
    "\n",
    "cji3['  Qtd.entr.'] = cji3['  Qtd.entr.'].str.replace('.','')\n",
    "cji3['  Qtd.entr.'] = cji3['  Qtd.entr.'].str.replace(',','.')\n",
    "cji3['  Qtd.entr.'] = cji3['  Qtd.entr.'].str.replace(' ','')\n",
    "cji3['  Qtd.entr.'] = cji3['  Qtd.entr.'].astype(float)\n",
    "\n",
    "cji3['Def.proj.'] = cji3['Def.proj.'].str.extract(r'(\\d\\d\\d\\d\\d\\d\\d)').astype(int)"
   ]
  },
  {
   "cell_type": "code",
   "execution_count": 444,
   "metadata": {},
   "outputs": [
    {
     "name": "stderr",
     "output_type": "stream",
     "text": [
      "C:\\Users\\Hugo Viana\\AppData\\Local\\Temp\\ipykernel_30532\\1998791053.py:8: DtypeWarning: Columns (0,4,6,7,11,12,16,18,20,23) have mixed types. Specify dtype option on import or set low_memory=False.\n",
      "  zmm370 = pd.read_csv('zmm370.csv', sep='\\t', encoding='ISO-8859-1', skiprows=1)\n"
     ]
    }
   ],
   "source": [
    "try:\n",
    "    os.rename('zmm370.xls', 'zmm370.csv')\n",
    "except FileExistsError:\n",
    "    os.remove('zmm370.csv')\n",
    "    os.rename('zmm370.xls', 'zmm370.csv')\n",
    "except FileNotFoundError:\n",
    "    pass\n",
    "\n",
    "zmm370 = pd.read_csv('zmm370.csv', sep='\\t', encoding='ISO-8859-1', skiprows=1)\n",
    "zmm370 = zmm370.loc[zmm370['Registro Final'] != 'X']\n",
    "zmm370 = zmm370.loc[(zmm370['Tipo movimento'] == 221) | (zmm370['Tipo movimento'] == 921)]\n",
    "zmm370 = zmm370.loc[zmm370['Recebedor'].str.contains('3ST')]\n",
    "\n",
    "zmm370['Qtd Necessária'] = zmm370['Qtd Necessária'].str.replace('.','')\n",
    "zmm370['Qtd Necessária'] = zmm370['Qtd Necessária'].str.replace(',','.')\n",
    "zmm370['Qtd Necessária'] = zmm370['Qtd Necessária'].str.replace(' ','')\n",
    "zmm370['Qtd Necessária'] = zmm370['Qtd Necessária'].astype(float)\n",
    "\n",
    "zmm370['Qtd Pendente'] = zmm370['Qtd Pendente'].str.replace('.','')\n",
    "zmm370['Qtd Pendente'] = zmm370['Qtd Pendente'].str.replace(',','.')\n",
    "zmm370['Qtd Pendente'] = zmm370['Qtd Pendente'].str.replace(' ','')\n",
    "zmm370['Qtd Pendente'] = zmm370['Qtd Pendente'].astype(float)\n",
    "\n",
    "zmm370['Projeto'] = zmm370['Projeto'].str.extract(r'(\\d\\d\\d\\d\\d\\d\\d)').astype(int)\n",
    "zmm370 = zmm370.rename(columns={'Qtd Pendente': 'Qtd. Reservada'})"
   ]
  },
  {
   "cell_type": "code",
   "execution_count": 523,
   "metadata": {},
   "outputs": [],
   "source": [
    "reservas_criadas = zmm370[['Projeto', 'Material', 'Qtd. Reservada']].groupby(['Projeto', 'Material'], as_index=False).sum()\n",
    "materiais_movimentados = cji3[['Def.proj.','Material', '  Qtd.entr.']].groupby(['Def.proj.', 'Material'], as_index=False).sum()\n",
    "materiais_movimentados = materiais_movimentados.rename(columns={'Def.proj.': 'Projeto', '  Qtd.entr.': 'Qtd. Movimentada'})"
   ]
  },
  {
   "cell_type": "code",
   "execution_count": 524,
   "metadata": {},
   "outputs": [],
   "source": [
    "data_inicio = datetime.strptime('2023-04-17', '%Y-%m-%d')\n",
    "data_fim = datetime.strptime('2023-04-22', '%Y-%m-%d')\n",
    "\n",
    "programacao_semana = programacao.loc[(programacao['Data Execução']>=data_inicio) & (programacao['Data Execução']<=data_fim)]\n",
    "obras_programadas = programacao_semana[['Projeto']].groupby('Projeto').sum()\n",
    "\n",
    "material_obras_programadas = obras_programadas.merge(materiais_orcados, on='Projeto', how='left').groupby(['Projeto', 'Material'], as_index=False).sum()\n",
    "material_obras_programadas = material_obras_programadas.rename(columns={'Quantidade': 'Qtd. Orçada'})\n",
    "material_obras_programadas = material_obras_programadas.merge(materiais_movimentados, on=['Projeto', 'Material'], how='left')\n",
    "material_obras_programadas = material_obras_programadas.merge(reservas_criadas, on=['Projeto', 'Material'], how='left')\n",
    "material_obras_programadas = material_obras_programadas.fillna(0)\n",
    "material_obras_programadas['Material pendente de saque'] = material_obras_programadas['Qtd. Orçada'] - material_obras_programadas['Qtd. Movimentada']\n",
    "material_obras_programadas = material_obras_programadas.loc[material_obras_programadas['Material pendente de saque'] > 0]\n",
    "material_obras_programadas['Reserva pendente'] = material_obras_programadas['Material pendente de saque'] - material_obras_programadas['Qtd. Reservada']\n",
    "material_obras_programadas = material_obras_programadas.loc[material_obras_programadas['Reserva pendente'] > 0]\n",
    "material_obras_programadas = material_obras_programadas.merge(projeto_vs_unidade[['Projeto', 'UNIDADE']], on='Projeto')"
   ]
  },
  {
   "cell_type": "code",
   "execution_count": 533,
   "metadata": {},
   "outputs": [],
   "source": [
    "material_obras_programadas.to_excel('texte.xlsx')"
   ]
  }
 ],
 "metadata": {
  "kernelspec": {
   "display_name": "Python 3",
   "language": "python",
   "name": "python3"
  },
  "language_info": {
   "codemirror_mode": {
    "name": "ipython",
    "version": 3
   },
   "file_extension": ".py",
   "mimetype": "text/x-python",
   "name": "python",
   "nbconvert_exporter": "python",
   "pygments_lexer": "ipython3",
   "version": "3.11.3"
  },
  "orig_nbformat": 4
 },
 "nbformat": 4,
 "nbformat_minor": 2
}
